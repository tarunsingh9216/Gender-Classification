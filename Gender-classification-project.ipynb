{
 "cells": [
  {
   "cell_type": "code",
   "execution_count": 4,
   "metadata": {},
   "outputs": [],
   "source": [
    "import numpy as np\n",
    "import pandas as pd\n",
    "import matplotlib.pyplot as plt\n",
    "from warnings import filterwarnings\n",
    "filterwarnings(\"ignore\")\n",
    "import seaborn as sns\n",
    "import os\n",
    "from PIL import Image\n",
    "import cv2"
   ]
  },
  {
   "cell_type": "code",
   "execution_count": 5,
   "metadata": {},
   "outputs": [],
   "source": [
    "train_path= r\"C:Users\\samik\\Downloads\\archive (2)\\Training\"\n",
    "test_path= r\"C:Users\\samik\\Downloads\\archive (2)\\Validation\"\n",
    "train_male= r\"C:\\Users\\samik\\Downloads\\archive (2)\\Training\\male\"\n",
    "train_female= r\"C:\\Users\\samik\\Downloads\\archive (2)\\Training\\female\"\n",
    "test_male= r\"C:\\Users\\samik\\Downloads\\archive (2)\\Validation\\male\"\n",
    "test_female= r\"C:\\Users\\samik\\Downloads\\archive (2)\\Validation\\female\""
   ]
  },
  {
   "cell_type": "code",
   "execution_count": 6,
   "metadata": {},
   "outputs": [
    {
     "data": {
      "image/png": "[encoded data removed]",
      "text/plain": [
       "<PIL.JpegImagePlugin.JpegImageFile image mode=RGB size=82x107>"
      ]
     },
     "execution_count": 6,
     "metadata": {},
     "output_type": "execute_result"
    }
   ],
   "source": [
    "Image.open(r\"C:\\Users\\samik\\Downloads\\archive (2)\\Training\\male\\090563.jpg.jpg\")"
   ]
  },
  {
   "cell_type": "code",
   "execution_count": 7,
   "metadata": {},
   "outputs": [],
   "source": [
    "\n",
    "male_train=[]\n",
    "label=[]\n",
    "for i in os.listdir(train_male):\n",
    "    if os.path.isfile(train_male+ \"/\"+ i):\n",
    "        males=Image.open(train_male+ \"/\"+ i).convert(\"L\")\n",
    "        males=males.resize((50,50), Image.ANTIALIAS)\n",
    "        males= np.asarray(males)/255\n",
    "        male_train.append(males)\n",
    "        label.append(1)"
   ]
  },
  {
   "cell_type": "code",
   "execution_count": 8,
   "metadata": {},
   "outputs": [
    {
     "data": {
      "text/plain": [
       "(23766, 23766)"
      ]
     },
     "execution_count": 8,
     "metadata": {},
     "output_type": "execute_result"
    }
   ],
   "source": [
    "len(label), len(male_train)"
   ]
  },
  {
   "cell_type": "code",
   "execution_count": 9,
   "metadata": {},
   "outputs": [],
   "source": [
    "\n",
    "female_train=[]\n",
    "for i in os.listdir(train_female):\n",
    "    if os.path.isfile(train_female + \"/\"+ i):\n",
    "        females=Image.open(train_female+ \"/\"+ i)\n",
    "        females= females.resize((50,50), Image.ANTIALIAS).convert(\"L\")\n",
    "        females= np.asarray(females)/255\n",
    "        female_train.append(females)\n",
    "        label.append(0)"
   ]
  },
  {
   "cell_type": "code",
   "execution_count": 10,
   "metadata": {},
   "outputs": [
    {
     "data": {
      "text/plain": [
       "(47009, 23243)"
      ]
     },
     "execution_count": 10,
     "metadata": {},
     "output_type": "execute_result"
    }
   ],
   "source": [
    "len(label), len(female_train)"
   ]
  },
  {
   "cell_type": "code",
   "execution_count": 11,
   "metadata": {},
   "outputs": [],
   "source": [
    "x_train= np.concatenate((male_train, female_train), axis=0)\n",
    "y_train= np.asarray(label)\n",
    "y_train= y_train.reshape(x_train.shape[0],1)"
   ]
  },
  {
   "cell_type": "code",
   "execution_count": 12,
   "metadata": {},
   "outputs": [
    {
     "name": "stdout",
     "output_type": "stream",
     "text": [
      "woman faces (23243, 50, 50) man faces (23766, 50, 50)\n",
      "train dataset (47009, 50, 50) train values (47009, 1)\n"
     ]
    }
   ],
   "source": [
    "print(\"woman faces\", np.shape(female_train), \"man faces\", np.shape(male_train))\n",
    "print(\"train dataset\", x_train.shape, \"train values\", y_train.shape)"
   ]
  },
  {
   "cell_type": "code",
   "execution_count": 13,
   "metadata": {},
   "outputs": [],
   "source": [
    "male_test=[]\n",
    "label2=[]\n",
    "for i in os.listdir(test_male):\n",
    "    if os.path.isfile(test_male+ \"/\"+i):\n",
    "        male_face= Image.open(test_male + \"/\"+ i).convert(\"L\")\n",
    "        male_face=male_face.resize((50,50), Image.ANTIALIAS)\n",
    "        male_face= np.asarray(male_face)/255\n",
    "        male_test.append(male_face)\n",
    "        label2.append(1)\n",
    "\n"
   ]
  },
  {
   "cell_type": "code",
   "execution_count": null,
   "metadata": {},
   "outputs": [],
   "source": []
  },
  {
   "cell_type": "code",
   "execution_count": 14,
   "metadata": {},
   "outputs": [],
   "source": [
    "female_test=[]\n",
    "for i in os.listdir(test_female):\n",
    "    if os.path.isfile(test_female+ \"/\"+i):\n",
    "        female_face= Image.open(test_female+\"/\"+i).convert(\"L\")\n",
    "        female_face= female_face.resize((50,50), Image.ANTIALIAS)\n",
    "        female_face=np.asarray(female_face)/255\n",
    "        female_test.append(female_face)\n",
    "        label2.append(0)"
   ]
  },
  {
   "cell_type": "code",
   "execution_count": 15,
   "metadata": {},
   "outputs": [],
   "source": [
    "x_test= np.concatenate((male_test, female_test), axis=0)\n",
    "y_test= np.asarray(label2)\n",
    "y_test= y_test.reshape(x_test.shape[0],1)"
   ]
  },
  {
   "cell_type": "code",
   "execution_count": 16,
   "metadata": {},
   "outputs": [
    {
     "name": "stdout",
     "output_type": "stream",
     "text": [
      "man faces (5808, 50, 50) female faces (5841, 50, 50)\n",
      "test dataset (11649, 50, 50) test dataset value (11649, 1)\n"
     ]
    }
   ],
   "source": [
    "print(\"man faces\", np.shape(male_test), \"female faces\", np.shape(female_test))\n",
    "print(\"test dataset\", x_test.shape, \"test dataset value\", y_test.shape)"
   ]
  },
  {
   "cell_type": "code",
   "execution_count": 17,
   "metadata": {},
   "outputs": [],
   "source": [
    "from sklearn.linear_model import LogisticRegression\n",
    "from sklearn.metrics import accuracy_score\n",
    "from sklearn.preprocessing import LabelEncoder"
   ]
  },
  {
   "cell_type": "code",
   "execution_count": 18,
   "metadata": {},
   "outputs": [],
   "source": [
    "enc= LabelEncoder()"
   ]
  },
  {
   "cell_type": "code",
   "execution_count": 19,
   "metadata": {},
   "outputs": [],
   "source": [
    "model= LogisticRegression()"
   ]
  },
  {
   "cell_type": "code",
   "execution_count": null,
   "metadata": {},
   "outputs": [],
   "source": []
  },
  {
   "cell_type": "code",
   "execution_count": 108,
   "metadata": {},
   "outputs": [],
   "source": [
    "x= np.concatenate((x_train, x_test), axis=0)\n",
    "y= np.concatenate((y_train, y_test), axis=0)\n",
    "x= x.reshape(x.shape[0], x.shape[1]*x.shape[2])"
   ]
  },
  {
   "cell_type": "code",
   "execution_count": 109,
   "metadata": {},
   "outputs": [
    {
     "name": "stdout",
     "output_type": "stream",
     "text": [
      "x shape: (58658, 2500)\n",
      "y shape:(58658, 1)\n"
     ]
    }
   ],
   "source": [
    "print(\"x shape: {}\". format(x.shape))\n",
    "print(\"y shape:{}\".format(y.shape))"
   ]
  },
  {
   "cell_type": "code",
   "execution_count": 22,
   "metadata": {},
   "outputs": [
    {
     "data": {
      "text/plain": [
       "LogisticRegression()"
      ]
     },
     "execution_count": 22,
     "metadata": {},
     "output_type": "execute_result"
    }
   ],
   "source": [
    "model.fit(x,y)"
   ]
  },
  {
   "cell_type": "code",
   "execution_count": 23,
   "metadata": {},
   "outputs": [
    {
     "data": {
      "text/plain": [
       "array([[-0.64668113, -0.35547824, -0.21313781, ...,  0.15449571,\n",
       "         0.09135779, -0.03171214]])"
      ]
     },
     "execution_count": 23,
     "metadata": {},
     "output_type": "execute_result"
    }
   ],
   "source": [
    "model.coef_"
   ]
  },
  {
   "cell_type": "code",
   "execution_count": 24,
   "metadata": {},
   "outputs": [],
   "source": [
    "pred= model.predict(x)"
   ]
  },
  {
   "cell_type": "code",
   "execution_count": 25,
   "metadata": {},
   "outputs": [
    {
     "data": {
      "text/plain": [
       "array([1, 0, 1, 1, 1])"
      ]
     },
     "execution_count": 25,
     "metadata": {},
     "output_type": "execute_result"
    }
   ],
   "source": [
    "pred[:5]"
   ]
  },
  {
   "cell_type": "code",
   "execution_count": 110,
   "metadata": {},
   "outputs": [
    {
     "data": {
      "text/plain": [
       "array([[0.05098039, 0.04313725, 0.03529412, ..., 0.01176471, 0.        ,\n",
       "        0.        ],\n",
       "       [0.03921569, 0.03921569, 0.04705882, ..., 0.25882353, 0.10588235,\n",
       "        0.05882353],\n",
       "       [0.77647059, 0.80392157, 0.78431373, ..., 0.28627451, 0.35686275,\n",
       "        0.36078431],\n",
       "       [0.17647059, 0.14901961, 0.19607843, ..., 0.0745098 , 0.08235294,\n",
       "        0.08627451],\n",
       "       [0.21176471, 0.25882353, 0.32941176, ..., 0.45882353, 0.27843137,\n",
       "        0.13333333]])"
      ]
     },
     "execution_count": 110,
     "metadata": {},
     "output_type": "execute_result"
    }
   ],
   "source": [
    "x[:5]"
   ]
  },
  {
   "cell_type": "code",
   "execution_count": 111,
   "metadata": {},
   "outputs": [
    {
     "data": {
      "text/plain": [
       "array([[1],\n",
       "       [1],\n",
       "       [1],\n",
       "       [1],\n",
       "       [1]])"
      ]
     },
     "execution_count": 111,
     "metadata": {},
     "output_type": "execute_result"
    }
   ],
   "source": [
    "y[:5]"
   ]
  },
  {
   "cell_type": "code",
   "execution_count": 112,
   "metadata": {},
   "outputs": [],
   "source": [
    "from sklearn.metrics import *"
   ]
  },
  {
   "cell_type": "code",
   "execution_count": 113,
   "metadata": {},
   "outputs": [
    {
     "data": {
      "text/plain": [
       "0.8626615295441372"
      ]
     },
     "execution_count": 113,
     "metadata": {},
     "output_type": "execute_result"
    }
   ],
   "source": [
    "accuracy_score(y, pred)"
   ]
  },
  {
   "cell_type": "code",
   "execution_count": 114,
   "metadata": {},
   "outputs": [
    {
     "data": {
      "text/plain": [
       "array([[25004,  4080],\n",
       "       [ 3976, 25598]], dtype=int64)"
      ]
     },
     "execution_count": 114,
     "metadata": {},
     "output_type": "execute_result"
    }
   ],
   "source": [
    "confusion_matrix(y,pred)"
   ]
  },
  {
   "cell_type": "code",
   "execution_count": 115,
   "metadata": {},
   "outputs": [
    {
     "data": {
      "text/plain": [
       "<sklearn.metrics._plot.confusion_matrix.ConfusionMatrixDisplay at 0x219b08c79e8>"
      ]
     },
     "execution_count": 115,
     "metadata": {},
     "output_type": "execute_result"
    },
    {
     "data": {
      "image/png": "[encoded data removed]",
      "text/plain": [
       "<Figure size 432x288 with 2 Axes>"
      ]
     },
     "metadata": {
      "needs_background": "light"
     },
     "output_type": "display_data"
    }
   ],
   "source": [
    "plot_confusion_matrix(model, x, y)"
   ]
  },
  {
   "cell_type": "code",
   "execution_count": 116,
   "metadata": {},
   "outputs": [
    {
     "data": {
      "text/plain": [
       "0.8655575843646446"
      ]
     },
     "execution_count": 116,
     "metadata": {},
     "output_type": "execute_result"
    }
   ],
   "source": [
    "recall_score(y, pred)"
   ]
  },
  {
   "cell_type": "code",
   "execution_count": 117,
   "metadata": {},
   "outputs": [
    {
     "data": {
      "text/plain": [
       "0.8625244288698699"
      ]
     },
     "execution_count": 117,
     "metadata": {},
     "output_type": "execute_result"
    }
   ],
   "source": [
    "precision_score(y, pred)"
   ]
  },
  {
   "cell_type": "code",
   "execution_count": 118,
   "metadata": {},
   "outputs": [
    {
     "data": {
      "text/plain": [
       "0.8640383446972254"
      ]
     },
     "execution_count": 118,
     "metadata": {},
     "output_type": "execute_result"
    }
   ],
   "source": [
    "f1_score(y, pred)"
   ]
  },
  {
   "cell_type": "code",
   "execution_count": 119,
   "metadata": {},
   "outputs": [
    {
     "name": "stdout",
     "output_type": "stream",
     "text": [
      "              precision    recall  f1-score   support\n",
      "\n",
      "           0       0.86      0.86      0.86     29084\n",
      "           1       0.86      0.87      0.86     29574\n",
      "\n",
      "    accuracy                           0.86     58658\n",
      "   macro avg       0.86      0.86      0.86     58658\n",
      "weighted avg       0.86      0.86      0.86     58658\n",
      "\n"
     ]
    }
   ],
   "source": [
    "print(classification_report(y,pred))"
   ]
  },
  {
   "cell_type": "code",
   "execution_count": 120,
   "metadata": {},
   "outputs": [
    {
     "data": {
      "text/plain": [
       "array([1, 0, 1, 1, 1])"
      ]
     },
     "execution_count": 120,
     "metadata": {},
     "output_type": "execute_result"
    }
   ],
   "source": [
    "pred[:5]"
   ]
  },
  {
   "cell_type": "code",
   "execution_count": 122,
   "metadata": {},
   "outputs": [],
   "source": [
    "import cv2\n",
    "import numpy as np\n",
    "import os\n"
   ]
  },
  {
   "cell_type": "code",
   "execution_count": 134,
   "metadata": {},
   "outputs": [],
   "source": [
    "dataset = cv2.CascadeClassifier(\"data.xml\")\n",
    "vid = cv2.VideoCapture(0)\n",
    "\n",
    "name_list = {0:\"Female\", 1:\"Male\"}\n",
    "\n",
    "while True:\n",
    "    ret, frame = vid.read()\n",
    "    if ret:\n",
    "        gray = cv2.cvtColor(frame, cv2.COLOR_BGR2GRAY)\n",
    "        faces = dataset.detectMultiScale(gray, 1.2)\n",
    "        for x,y,w,h in faces:\n",
    "            cv2.rectangle(frame, (x,y), (x+w, y+h), (255, 255, 0), 2)\n",
    "            face = gray[y:y+h, x:x+w]\n",
    "            # print(face)\n",
    "            face = cv2.resize(face, (50,50))\n",
    "            # name = name_list[int(knn(face.reshape(50,50), x_train))]\n",
    "            name = name_list[int(round(model.predict(face.reshape(1, 2500))[0], 0))]\n",
    "            cv2.putText(frame, name, (x,y), cv2.FONT_HERSHEY_PLAIN, 5, (255, 180,0))\n",
    "        cv2.imshow(\"result\", frame)\n",
    "        if cv2.waitKey(1) == 27:\n",
    "            break\n",
    "    else:\n",
    "        print(\"Some Problem\")\n",
    "\n",
    "cv2.destroyAllWindows()\n",
    "vid.release()"
   ]
  },
  {
   "cell_type": "code",
   "execution_count": null,
   "metadata": {},
   "outputs": [],
   "source": []
  }
 ],
 "metadata": {
  "kernelspec": {
   "display_name": "Python 3 (ipykernel)",
   "language": "python",
   "name": "python3"
  },
  "language_info": {
   "codemirror_mode": {
    "name": "ipython",
    "version": 3
   },
   "file_extension": ".py",
   "mimetype": "text/x-python",
   "name": "python",
   "nbconvert_exporter": "python",
   "pygments_lexer": "ipython3",
   "version": "3.10.9"
  },
  "vscode": {
   "interpreter": {
    "hash": "447e988fed4900acca6210e665601f40c16d12092f83b797f86e1cd72fee511d"
   }
  }
 },
 "nbformat": 4,
 "nbformat_minor": 2
}
